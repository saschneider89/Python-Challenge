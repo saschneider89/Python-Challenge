{
 "cells": [
  {
   "cell_type": "code",
   "execution_count": 3,
   "metadata": {},
   "outputs": [
    {
     "name": "stdout",
     "output_type": "stream",
     "text": [
      "Election Results\n",
      "-------------------------\n",
      "Total Votes: 1048575\n",
      "-------------------------\n",
      "Khan: 63.094% (661583)\n",
      "Correy: 19.936% (209046)\n",
      "Li: 13.958% (146360)\n",
      "O'Tooley: 3.012% (31586)\n",
      "-------------------------\n",
      "Winner: Khan\n",
      "-------------------------\n"
     ]
    }
   ],
   "source": [
    "#Load dependencies\n",
    "import os\n",
    "import csv\n",
    "\n",
    "#We will be keeping track of candidates and their votes in two separate lists \n",
    "Candidates = []\n",
    "CandidateVotes = []\n",
    "VoteCount = 0\n",
    "WinnerVotes = 0\n",
    "\n",
    "#Use encoding='utf-8 for Windows\n",
    "csvpath = os.path.join(\"..\",\"Resources\",\"PyPoll_Resources_election_data.csv\")\n",
    "with open(csvpath, encoding='utf-8') as csvfile:\n",
    "\n",
    "    csvreader = csv.reader(csvfile, delimiter=',')\n",
    "    next(csvreader, None)\n",
    "    #For each non-header row\n",
    "    for row in csvreader:\n",
    "        #Increment the count of votes\n",
    "        VoteCount += 1\n",
    "        #If the candidate does not appear in the list of candidates, add them to it and give them a vote in the vote count list\n",
    "        if Candidates.count(row[2]) == 0:\n",
    "            Candidates.append(row[2])\n",
    "            CandidateVotes.append(1)\n",
    "        else:\n",
    "            #If the candidate already appears, increment their vote count\n",
    "            CandidateVotes[Candidates.index(row[2])] += 1\n",
    "\n",
    "#Print results\n",
    "print(\"Election Results\")\n",
    "print(\"-------------------------\")\n",
    "print(f\"Total Votes: {VoteCount}\")\n",
    "print(\"-------------------------\")\n",
    "#Run through the candidate list\n",
    "for n in range(len(Candidates)):\n",
    "    #Each canddiate has their name printed, following by the percentage of votes they received and the number of votes they received\n",
    "    print(f\"{Candidates[n]}: {(100*CandidateVotes[n]/VoteCount):.3f}% ({CandidateVotes[n]})\")\n",
    "    #Check if the current candidate was the highest vote getter, if so save their name and vote count as the new front runner\n",
    "    if CandidateVotes[n] > WinnerVotes:\n",
    "        WinnerName = Candidates[n]\n",
    "        WinnerVotes = CandidateVotes[n]\n",
    "print(\"-------------------------\")\n",
    "#Print winner's name\n",
    "print(f\"Winner: {WinnerName}\")\n",
    "print(\"-------------------------\")\n",
    "\n",
    "#Write Results to .txt file\n",
    "output_file = os.path.join(\"..\",\"Analysis\",\"PyPoll.txt\")\n",
    "with open(output_file, \"w\", encoding='utf-8') as datafile:\n",
    "    datafile.write(\"Election Results\\n\")\n",
    "    datafile.write(\"-------------------------\\n\")\n",
    "    datafile.write(f\"Total Votes: {VoteCount}\\n\")\n",
    "    datafile.write(\"-------------------------\\n\")\n",
    "    for n in range(len(Candidates)):\n",
    "        datafile.write(f\"{Candidates[n]}: {(100*CandidateVotes[n]/VoteCount):.3f}% ({CandidateVotes[n]})\\n\")\n",
    "    datafile.write(\"-------------------------\\n\")\n",
    "    datafile.write(f\"Winner: {WinnerName}\\n\")\n",
    "    datafile.write(\"-------------------------\\n\")"
   ]
  },
  {
   "cell_type": "code",
   "execution_count": null,
   "metadata": {},
   "outputs": [],
   "source": []
  }
 ],
 "metadata": {
  "kernelspec": {
   "display_name": "Python 3",
   "language": "python",
   "name": "python3"
  },
  "language_info": {
   "codemirror_mode": {
    "name": "ipython",
    "version": 3
   },
   "file_extension": ".py",
   "mimetype": "text/x-python",
   "name": "python",
   "nbconvert_exporter": "python",
   "pygments_lexer": "ipython3",
   "version": "3.8.5"
  }
 },
 "nbformat": 4,
 "nbformat_minor": 4
}
