{
 "cells": [
  {
   "cell_type": "code",
   "execution_count": 220,
   "metadata": {},
   "outputs": [],
   "source": [
    "#Load dependencies\n",
    "import os\n",
    "import csv"
   ]
  },
  {
   "cell_type": "code",
   "execution_count": 221,
   "metadata": {},
   "outputs": [],
   "source": [
    "#Create variables or lists to store data\n",
    "Months = 0\n",
    "Dates = []\n",
    "Profits = []"
   ]
  },
  {
   "cell_type": "code",
   "execution_count": 222,
   "metadata": {},
   "outputs": [],
   "source": [
    "#Use encoding='utf-8 for Windows\n",
    "csvpath = os.path.join(\"..\",\"Resources\",\"PyBank_Resources_budget_data.csv\")\n",
    "with open(csvpath, encoding='utf-8') as csvfile:\n",
    "    csvreader = csv.reader(csvfile, delimiter=',')\n",
    "    #Skip Header\n",
    "    next(csvreader, None)\n",
    "    for row in csvreader:\n",
    "        Months += 1\n",
    "        Dates.append(row[0])\n",
    "        Profits.append(float(row[1]))"
   ]
  },
  {
   "cell_type": "code",
   "execution_count": 223,
   "metadata": {},
   "outputs": [],
   "source": [
    "#Set initial values, Profits[0] is first value in list\n",
    "Total_Profits = Profits[0]\n",
    "Total_Change = 0\n",
    "Biggest_Increase = 0\n",
    "Biggest_Decrease = 0"
   ]
  },
  {
   "cell_type": "code",
   "execution_count": 226,
   "metadata": {},
   "outputs": [],
   "source": [
    "#Only 85 changes between month to month\n",
    "for n in range (1, Months):\n",
    "    #Loop through column 1 to find total profits\n",
    "    Total_Profits += Profits[n]\n",
    "    \n",
    "    #Calculate the change between this month and the month before it and then add it to the totaled changes\n",
    "    Month_Change = Profits[n] - Profits[n-1]\n",
    "    Total_Change += Month_Change\n",
    "    \n",
    "    #Loop through above totals, find months with biggest increases/decreases\n",
    "    if Month_Change > Biggest_Increase:\n",
    "        Biggest_Increase = Month_Change\n",
    "        Biggest_Increase_Date = Dates[n]\n",
    "    elif Month_Change < Biggest_Decrease:\n",
    "        Biggest_Decrease = Month_Change\n",
    "        Biggest_Decrease_Date = Dates[n]"
   ]
  },
  {
   "cell_type": "code",
   "execution_count": 227,
   "metadata": {},
   "outputs": [
    {
     "name": "stdout",
     "output_type": "stream",
     "text": [
      "Financial Analysis\n",
      "----------------------------\n",
      "Total Months: 86\n",
      "Total: $75897272\n",
      "Average Change: $ -2315.12\n",
      "Greatest Increase in Profits: Feb-12 ($1926159)\n",
      "Greatest Decrease in Profits: Sep-13 ($-2196167)\n"
     ]
    }
   ],
   "source": [
    "#Print Results\n",
    "print(\"Financial Analysis\")\n",
    "print(\"----------------------------\")\n",
    "print(f\"Total Months: {Months}\")\n",
    "print(f\"Total: ${(int(Total_Profits))}\")\n",
    "print(f\"Average Change: $ {Average_Change:.2f}\")\n",
    "print(f\"Greatest Increase in Profits: {Biggest_Increase_Date} (${(int(Biggest_Increase))})\")\n",
    "print(f\"Greatest Decrease in Profits: {Biggest_Decrease_Date} (${(int(Biggest_Decrease))})\")\n",
    "\n",
    "#Write Results to .txt file\n",
    "output_file = os.path.join(\"..\",\"Analysis\",\"PyBank.txt\")\n",
    "with open(output_file, \"w\", encoding='utf-8') as datafile:\n",
    "\n",
    "    datafile.write(\"Financial Analysis\\n\")\n",
    "    datafile.write(\"----------------------------\\n\")\n",
    "    datafile.write(f\"Total Months: {Months}\\n\")\n",
    "    datafile.write(f\"Total: ${(int(Total_Profits))}\\n\")\n",
    "    datafile.write(f\"Average Change: $ {Average_Change:.2f}\\n\")\n",
    "    datafile.write(f\"Greatest Increase in Profits: {Biggest_Increase_Date} (${(int(Biggest_Increase))})\\n\")\n",
    "    datafile.write(f\"Greatest Decrease in Profits: {Biggest_Decrease_Date} (${(int(Biggest_Decrease))})\\n\")"
   ]
  },
  {
   "cell_type": "code",
   "execution_count": null,
   "metadata": {},
   "outputs": [],
   "source": []
  },
  {
   "cell_type": "code",
   "execution_count": null,
   "metadata": {},
   "outputs": [],
   "source": []
  }
 ],
 "metadata": {
  "kernelspec": {
   "display_name": "Python 3",
   "language": "python",
   "name": "python3"
  },
  "language_info": {
   "codemirror_mode": {
    "name": "ipython",
    "version": 3
   },
   "file_extension": ".py",
   "mimetype": "text/x-python",
   "name": "python",
   "nbconvert_exporter": "python",
   "pygments_lexer": "ipython3",
   "version": "3.8.5"
  }
 },
 "nbformat": 4,
 "nbformat_minor": 4
}
