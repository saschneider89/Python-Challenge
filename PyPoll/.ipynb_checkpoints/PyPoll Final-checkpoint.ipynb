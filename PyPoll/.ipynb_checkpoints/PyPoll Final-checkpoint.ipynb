{
 "cells": [
  {
   "cell_type": "code",
   "execution_count": 92,
   "metadata": {},
   "outputs": [],
   "source": [
    "#Load dependencies\n",
    "import os\n",
    "import csv"
   ]
  },
  {
   "cell_type": "code",
   "execution_count": 93,
   "metadata": {},
   "outputs": [],
   "source": [
    "#Create variables or lists to store data\n",
    "Candidate = []\n",
    "Candidate_Votes = []\n",
    "Total_Votes = 0\n",
    "Winner_Votes = 0"
   ]
  },
  {
   "cell_type": "code",
   "execution_count": 94,
   "metadata": {},
   "outputs": [],
   "source": [
    "#Use encoding='utf-8 for Windows\n",
    "csvpath = os.path.join(\"..\",\"Resources\",\"PyPoll_Resources_election_data.csv\")\n",
    "with open(csvpath, encoding='utf-8') as csvfile:\n",
    "    csvreader = csv.reader(csvfile, delimiter=',')\n",
    "    next(csvreader, None)\n",
    "    #FUTURE CODING REFERENCE: Below line adds candidates to list and assigns them a vote\n",
    "    for row in csvreader:\n",
    "        Total_Votes += 1\n",
    "        if  Candidate.count(row[2]) == 0:\n",
    "            Candidate.append(row[2])\n",
    "            Candidate_Votes.append(1)\n",
    "        #FUTURE CODING REFERENCE: Below line adds +1 for every time candidate name appears  \n",
    "        else:\n",
    "            Candidate_Votes[Candidate.index(row[2])] += 1"
   ]
  },
  {
   "cell_type": "code",
   "execution_count": 95,
   "metadata": {},
   "outputs": [
    {
     "name": "stdout",
     "output_type": "stream",
     "text": [
      "Election Results \n",
      "------------------------- \n",
      "Total Votes: 3521001 \n",
      "-------------------------\n"
     ]
    }
   ],
   "source": [
    "print(f\"Election Results \\n------------------------- \\nTotal Votes: {Total_Votes} \\n-------------------------\")"
   ]
  },
  {
   "cell_type": "code",
   "execution_count": 96,
   "metadata": {},
   "outputs": [
    {
     "name": "stdout",
     "output_type": "stream",
     "text": [
      "Khan: 63.000% (2218231)\n",
      "Correy: 20.000% (704200)\n",
      "Li: 14.000% (492940)\n",
      "O'Tooley: 3.000% (105630)\n"
     ]
    }
   ],
   "source": [
    "#Loop through 4 candidates to declare Winner and respective votes\n",
    "for n in range(len(Candidate)):\n",
    "    print(f\"{Candidate[n]}: {(100*Candidate_Votes[n]/Total_Votes):.3f}% ({Candidate_Votes[n]})\")\n",
    "    if Candidate_Votes[n] > Winner_Votes:\n",
    "        Winner = Candidate[n]\n",
    "        Winner_Votes = Candidate_Votes[n]"
   ]
  },
  {
   "cell_type": "code",
   "execution_count": 97,
   "metadata": {},
   "outputs": [],
   "source": [
    "#Write Results to .txt file\n",
    "output_file = os.path.join(\"..\",\"Analysis\",\"PyPoll.txt\")\n",
    "with open(output_file, \"w\", encoding='utf-8') as datafile:\n",
    "    datafile.write(f\"Election Results\\n-------------------------\\nTotal Votes: {Total_Votes}\\n-------------------------\\n\")\n",
    "    for n in range(len(Candidate)):\n",
    "        datafile.write(f\"{Candidate[n]}: {(100*Candidate_Votes[n]/Total_Votes):.3f}% ({Candidate_Votes[n]})\\n\")\n",
    "    datafile.write(f\"-------------------------\\nWinner: {Winner}\\n-------------------------\\n\")"
   ]
  },
  {
   "cell_type": "code",
   "execution_count": null,
   "metadata": {},
   "outputs": [],
   "source": [
    "#Election Results\n",
    "#-------------------------\n",
    "#Total Votes: 3521001\n",
    "#-------------------------\n",
    "#Khan: 63.000% (2218231)\n",
    "#Correy: 20.000% (704200)\n",
    "#Li: 14.000% (492940)\n",
    "#O'Tooley: 3.000% (105630)\n",
    "#-------------------------\n",
    "#Winner: Khan\n",
    "#-------------------------\n"
   ]
  }
 ],
 "metadata": {
  "kernelspec": {
   "display_name": "Python 3",
   "language": "python",
   "name": "python3"
  },
  "language_info": {
   "codemirror_mode": {
    "name": "ipython",
    "version": 3
   },
   "file_extension": ".py",
   "mimetype": "text/x-python",
   "name": "python",
   "nbconvert_exporter": "python",
   "pygments_lexer": "ipython3",
   "version": "3.8.5"
  }
 },
 "nbformat": 4,
 "nbformat_minor": 4
}
